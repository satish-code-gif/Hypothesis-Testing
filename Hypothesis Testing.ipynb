{
 "cells": [
  {
   "cell_type": "markdown",
   "id": "aef831ae",
   "metadata": {},
   "source": [
    "2.The college bookstore tells prospective students that the average cost of its \n",
    "textbooks is Rs. 52 with a standard deviation of Rs. 4.50. A group of smart statistics \n",
    "students thinks that the average cost is higher. To test the bookstore’s claim against \n",
    "their alternative, the students will select a random sample of size 100. Assume that \n",
    "the mean from their random sample is Rs. 52.80. Perform a hypothesis test at the \n",
    "5% level of significance and state your decision.\n"
   ]
  },
  {
   "cell_type": "code",
   "execution_count": 36,
   "id": "e753a49f",
   "metadata": {},
   "outputs": [
    {
     "name": "stdout",
     "output_type": "stream",
     "text": [
      "1.7777777777777715\n",
      "1.645\n"
     ]
    }
   ],
   "source": [
    "#H0: u=52\n",
    "#H1: u>52(that means it is one tail)\n",
    "import math\n",
    "sig=5 \n",
    "n=100\n",
    "x=52.80\n",
    "mu=52\n",
    "sd=4.50\n",
    "t=(x-mu)/(sd/math.sqrt(100))\n",
    "t_tab=1.645\n",
    "print(t)"
   ]
  },
  {
   "cell_type": "code",
   "execution_count": 37,
   "id": "151e18c8",
   "metadata": {},
   "outputs": [
    {
     "name": "stdout",
     "output_type": "stream",
     "text": [
      "if t caluculated value is less than t-table value then reject H0\n"
     ]
    }
   ],
   "source": [
    "#here z-table value for 5% is 1.645\n",
    "\n",
    "if(t<=t_tab):\n",
    "    print(\"if t caluculated value is less than t-table value then accept H0\")\n",
    "else:\n",
    "    print(\"if t caluculated value is greater than t-table value then reject H0\")\n"
   ]
  },
  {
   "cell_type": "markdown",
   "id": "4698e9c5",
   "metadata": {},
   "source": [
    "3.A certain chemical pollutant in the Genesee River has been constant for several \n",
    "years with mean μ = 34 ppm (parts per million) and standard deviation σ = 8 ppm. A \n",
    "group of factory representatives whose companies discharge liquids into the river is \n",
    "now claiming that they have lowered the average with improved filtration devices. A \n",
    "group of environmentalists will test to see if this is true at the 1% level of \n",
    "significance. Assume \\ that their sample of size 50 gives a mean of 32.5 ppm. \n",
    "Perform a hypothesis test at the 1% level of significance and state your decision"
   ]
  },
  {
   "cell_type": "code",
   "execution_count": 31,
   "id": "711a1a03",
   "metadata": {},
   "outputs": [
    {
     "name": "stdout",
     "output_type": "stream",
     "text": [
      "2.0738730679040147\n",
      "if t caluculated value is less than t-table value then accept H0\n"
     ]
    }
   ],
   "source": [
    "#H0: u=34 #A group of factory representatives whose companies discharge liquids into the river is now claiming that they have lowered the average with improved filtration devices\n",
    "#H1: u<34(that means it is one tail)\n",
    "import math\n",
    "sig=1\n",
    "n=50\n",
    "x=32.5\n",
    "mu=34\n",
    "sd=8\n",
    "z=(x-mu)/(sd/math.sqrt(50))\n",
    "import scipy.stats\n",
    "t_table=scipy.stats.t.ppf(q=1-.01,df=n-1)\n",
    "print(z_tab)\n",
    "if(t<=t_table):\n",
    "    print(\"if t caluculated value is less than t-table value then accept H0\")\n",
    "else:\n",
    "    print(\"if t caluculated value is greater than t-table value then reject H0\")"
   ]
  },
  {
   "cell_type": "markdown",
   "id": "210b07d4",
   "metadata": {},
   "source": [
    "4.Based on population figures and other general information on the U.S. population, \n",
    "suppose it has been estimated that, on average, a family of four in the U.S. spends \n",
    "about $1135 annually on dental expenditures. Suppose further that a regional dental \n",
    "association wants to test to determine if this figure is accurate for their area of \n",
    "country. To test this, 22 families of 4 are randomly selected from the population in \n",
    "that area of the country and a log is kept of the family’s dental expenditure for one \n",
    "year. The resulting data are given below. Assuming, that dental expenditure is \n",
    "normally distributed in the population, use the data and an alpha of 0.5 to test the \n",
    "dental association’s hypothesis.\n",
    " 1008, 812, 1117, 1323, 1308, 1415, 831, 1021, 1287, 851, 930, 730, 699,872, 913, 944, 954, 987, 1695, 995, 1003, 99 "
   ]
  },
  {
   "cell_type": "code",
   "execution_count": 30,
   "id": "967fa990",
   "metadata": {},
   "outputs": [
    {
     "name": "stdout",
     "output_type": "stream",
     "text": [
      "-727.665175568296\n",
      "2.0738730679040147\n",
      "if z caluculated value is less than t-table value then accept H0\n"
     ]
    }
   ],
   "source": [
    "#H0 u= family of four in the U.S. spends about $1135 annually on dental expenditures. \n",
    "#H1 u!=u1 it is alternative to the null hypothesis\n",
    "# finding mean of the given data\n",
    "# t-test for single mean when sd of sample is not given directly\n",
    "import numpy as np\n",
    "import math\n",
    "import scipy.stats\n",
    "a=np.array([1008, 812, 1117, 1323, 1308, 1415, 831, 1021, 1287, 851, 930, 730, 699,872, 913, 944, 954, 987, 1695, 995, 1003, 99 ])\n",
    "mean=np.mean(a)\n",
    "sd=np.std(a)\n",
    "n=22\n",
    "#here we dividing the alpha value with 2 because the problem is two tail\n",
    "alpha=0.5/2\n",
    "x=1135\n",
    "t=(x-mu)/(sd/math.sqrt(n))\n",
    "print(t)\n",
    "#find T critical value\n",
    "t_table=scipy.stats.t.ppf(q=1-.05/2,df=22)\n",
    "print(z_tab)\n",
    "if(t<t_table):\n",
    "    print(\"if z caluculated value is less than t-table value then accept H0\")\n",
    "else:\n",
    "    print(\"if z caluculated value is greater than z-table value then reject H0\")\n",
    "\n",
    "\n",
    "\n"
   ]
  },
  {
   "cell_type": "markdown",
   "id": "f31e33e8",
   "metadata": {},
   "source": [
    "5.In a report prepared by the Economic Research Department of a major bank the \n",
    "Department manager maintains that the average annual family income on Metropolis \n",
    "is $48,432. What do you conclude about the validity of the report if a random sample \n",
    "of 400 families shows and average income of $48,574 with a standard deviation of \n",
    "2000"
   ]
  },
  {
   "cell_type": "code",
   "execution_count": 28,
   "id": "751a0953",
   "metadata": {},
   "outputs": [
    {
     "name": "stdout",
     "output_type": "stream",
     "text": [
      "1.42\n",
      "1.965927295920809\n",
      "if z caluculated value is less than t-table value then accept H0\n"
     ]
    }
   ],
   "source": [
    "# H0, u=48432 the economic research department of a major bank the department manager maintains that the average annual family income on Metropolis\n",
    "# H1, u!=u1\n",
    "mu=48432\n",
    "n=400\n",
    "x=48574\n",
    "sd=2000\n",
    "alpha=0.05\n",
    "t=(x-mu)/(sd/math.sqrt(n))\n",
    "print(t)\n",
    "t_table=scipy.stats.t.ppf(q=1-.05/2,df=n-1)\n",
    "print(t_table)\n",
    "if(t<t_table):\n",
    "    print(\"if z caluculated value is less than t-table value then accept H0\")\n",
    "else:\n",
    "    print(\"if z caluculated value is greater than than z-table value then reject H0\")\n",
    "\n"
   ]
  },
  {
   "cell_type": "markdown",
   "id": "64964ca3",
   "metadata": {},
   "source": [
    "6.Suppose that in past years the average price per square foot for warehouses in the \n",
    "United States has been $32.28. A national real estate investor wants to determine \n",
    "whether that figure has changed now. The investor hires a researcher who randomly \n",
    "samples 19 warehouses that are for sale across the United States and finds that the \n",
    "mean price per square foot is $31.67, with a standard deviation of $1.29. assume \n",
    "that the prices of warehouse footage are normally distributed in population. If the \n",
    "researcher uses a 5% level of significance, what statistical conclusion can be \n",
    "reached? What are the hypotheses?"
   ]
  },
  {
   "cell_type": "code",
   "execution_count": 40,
   "id": "f6da45de",
   "metadata": {},
   "outputs": [
    {
     "name": "stdout",
     "output_type": "stream",
     "text": [
      "2.10092204024096\n",
      "if t caluculated value is less than t-table value then accept H0\n"
     ]
    }
   ],
   "source": [
    "# H0, u=32.28, A national real estate investor wants to determine whethere that figure has change now\n",
    "# H1, u!=u1 this mean it is two tail\n",
    "n=19 # The investore hires a reasearcher who randomly samples 19 warehouses\n",
    "x=32.8\n",
    "mean=31.67\n",
    "sd=1.29\n",
    "alpha=0.05\n",
    "z=(x-mean)/(sd/math.sqrt(n))\n",
    "t_table=scipy.stats.t.ppf(q=1-.05/2,df=n-1)\n",
    "print(t_table)\n",
    "if(t<t_table):\n",
    "    print(\"if t caluculated value is less than t-table value then accept H0\")\n",
    "else:\n",
    "    print(\"if t caluculated value is greater than t-table value then reject H0\")"
   ]
  },
  {
   "cell_type": "markdown",
   "id": "0242f5b7",
   "metadata": {},
   "source": [
    "8:Find the t-score for a sample size of 16 taken from a population with mean 10 when \n",
    "the sample mean is 12 and the sample standard deviation is 1.5."
   ]
  },
  {
   "cell_type": "code",
   "execution_count": 43,
   "id": "d22fc3d8",
   "metadata": {},
   "outputs": [
    {
     "name": "stdout",
     "output_type": "stream",
     "text": [
      "t score for sample size of given population  5.333333333333333\n"
     ]
    }
   ],
   "source": [
    "n=16\n",
    "x=12\n",
    "mean=10\n",
    "sd=1.5\n",
    "alpha=0.05\n",
    "t=(x-mean)/(sd/math.sqrt(n))\n",
    "print(\"t score for sample size of given population \",t)\n"
   ]
  },
  {
   "cell_type": "markdown",
   "id": "3db8f9d2",
   "metadata": {},
   "source": [
    "11:Two-tailed test for difference between two population means\n",
    "Is there evidence to conclude that the number of people travelling from Bangalore to \n",
    "Chennai is different from the number of people travelling from Bangalore to Hosur in \n",
    "a week, given the following:\n",
    "Population 1: Bangalore to Chennai n1 = 1200\n",
    "x1 = 452\n",
    "s1 = 212\n",
    "Population 2: Bangalore to Hosur n2 = 800\n",
    "x2 = 523\n",
    "s2 = 185"
   ]
  },
  {
   "cell_type": "code",
   "execution_count": 47,
   "id": "437d226d",
   "metadata": {},
   "outputs": [
    {
     "name": "stdout",
     "output_type": "stream",
     "text": [
      "8.957375917830698\n",
      "difference between two population means -7.926428526759299\n"
     ]
    }
   ],
   "source": [
    "import math\n",
    "#H0: Null Hypothesis u=u1\n",
    "# H1 : Alternative Hypothesis u!=u1\n",
    "#by default alpha value is 0.05\n",
    "#Here the problem already gives it is a two-tailed test for difference between two population means\n",
    "alpha=0.05\n",
    "n1=1200\n",
    "x1=452\n",
    "s1=212\n",
    "#Population 2 : Bangalore to Hosure \n",
    "n2=800\n",
    "x2=523\n",
    "s2=185\n",
    "#formual for finding z=x1-x2/sqrt((s1**2/n1)+(s2**2/n2))\n",
    "lower_value=math.sqrt(((s1**2)/n1)+((s2**2)/n2))\n",
    "print(lower_value)\n",
    "z=(x1-x2)/math.sqrt(((s1**2)/n1)+((s2**2)/n2))\n",
    "print(\"difference between two population means\",z)"
   ]
  },
  {
   "cell_type": "markdown",
   "id": "bc0a28fd",
   "metadata": {},
   "source": [
    "12: Is there evidence to conclude that the number of people preferring Duracell battery is \n",
    "different from the number of people preferring Energizer battery, given the following:\n",
    "Population 1: Duracell\n",
    "n1 = 100\n",
    "x1 = 308\n",
    "s1 = 84\n",
    "Population 2: Energizer\n",
    "n2 = 100\n",
    "x2 = 254\n",
    "s2 = 67"
   ]
  },
  {
   "cell_type": "code",
   "execution_count": 49,
   "id": "a280245f",
   "metadata": {},
   "outputs": [
    {
     "name": "stdout",
     "output_type": "stream",
     "text": [
      "10.74476616776745\n",
      "difference between two population means 5.025702668336442\n"
     ]
    }
   ],
   "source": [
    "alpha=0.05\n",
    "# Population 1: Duracell\n",
    "n1 = 100\n",
    "x1 = 308\n",
    "s1 = 84\n",
    "# Population 2: Energizer\n",
    "n2 = 100\n",
    "x2 = 254\n",
    "s2 = 67\n",
    "#formual for finding z=x1-x2/sqrt((s1**2/n1)+(s2**2/n2))\n",
    "lower_value=math.sqrt(((s1**2)/n1)+((s2**2)/n2))\n",
    "print(lower_value)\n",
    "z=(x1-x2)/math.sqrt(((s1**2)/n1)+((s2**2)/n2))\n",
    "print(\"difference between two population means\",z)"
   ]
  },
  {
   "cell_type": "markdown",
   "id": "83c26610",
   "metadata": {},
   "source": [
    "14.The manufacturers of compact disk players want to test whether a small price \n",
    "reduction is enough to increase sales of their product. Is there evidence that the \n",
    "small price reduction is enough to increase sales of compact disk players?\n",
    "Population 1: Before reduction\n",
    "n1 = 15\n",
    "x1 = Rs. 6598 s1 = Rs. 844\n",
    "Population 2: After reduction n2 = 12\n",
    "x2 = RS. 6870\n",
    "s2 = Rs. 669\n"
   ]
  },
  {
   "cell_type": "code",
   "execution_count": 15,
   "id": "3be4787d",
   "metadata": {},
   "outputs": [
    {
     "name": "stdout",
     "output_type": "stream",
     "text": [
      "difference between two population means 0.9341299576730813\n",
      "if t caluculated value is less than t-table value then accept H0\n"
     ]
    }
   ],
   "source": [
    "# H0:the small price reduction is enough to increase sales of compact disk players\n",
    "# H1 it completely alternative to the H0\n",
    "#that means u!=u1 then it is two tail\n",
    "# Population 1: Before reduction\n",
    "import math\n",
    "import scipy.stats\n",
    "n1=15\n",
    "x1=6598\n",
    "s1=844\n",
    "#population After reduction \n",
    "n2=12\n",
    "x2=6870\n",
    "s2=669\n",
    "#t-test for difference of means( because here n<30)\n",
    "#two samples with mean and sd\n",
    "#formual for finding z=x1-x2/sqrt((s1**2/n1)+(s2**2/n2))\n",
    "lower_value=math.sqrt(((s1**2)/n1)+((s2**2)/n2))\n",
    "t=abs((x1-x2)/math.sqrt(((s1**2)/n1)+((s2**2)/n2)))\n",
    "print(\"difference between two population means\",t)\n",
    "t_table=scipy.stats.t.ppf(q=1-.05/2,df=(n1+n2)-1)\n",
    "if(t<t_table):\n",
    "    print(\"if t caluculated value is less than t-table value then accept H0\")\n",
    "else:\n",
    "    print(\"if t caluculated value is greater than t-table value then reject H0\")\n"
   ]
  },
  {
   "cell_type": "markdown",
   "id": "a52f3bd3",
   "metadata": {},
   "source": [
    "15:Comparisons of two population proportions when the hypothesized difference is zero \n",
    "Carry out a two-tailed test of the equality of banks’ share of the car loan market in \n",
    "1980 and 1995.\n",
    "Population 1: 1980\n",
    "n1 = 1000\n",
    "x1 = 53\n",
    "𝑝 1 = 0.53\n",
    "Population 2: 1985\n",
    "n2 = 100\n",
    "x2 = 43\n",
    "𝑝 2= 0.53"
   ]
  },
  {
   "cell_type": "code",
   "execution_count": 36,
   "id": "16631513",
   "metadata": {},
   "outputs": [
    {
     "name": "stdout",
     "output_type": "stream",
     "text": [
      "0.0\n",
      "Here we are getting zero values because two population proportions are equal\n"
     ]
    }
   ],
   "source": [
    "# given that,\n",
    "# two population proportions whent the hypothesized difference is zero\n",
    "#H0: p1-p2=0\n",
    "# here the problem if difference of proportion two sample with no mean and sd\n",
    "#H0: p1-p2!=0\n",
    "\n",
    "#H1: P1!=P2 and this one is two tailed test of equality of bank\n",
    "#population 1: 1980\n",
    "n1=1000\n",
    "x1=53\n",
    "𝑝1=0.53\n",
    "#population 2: 1985\n",
    "n2=100\n",
    "x2=43\n",
    "𝑝2=0.53\n",
    "D=0\n",
    "p=((𝑝1*(1-𝑝1))/n1)+((𝑝2*(1-𝑝2))/n2)\n",
    "z=((𝑝1-𝑝2)-D)/math.sqrt(p)\n",
    "print(z)\n",
    "print(\"Here we are getting zero values because two population proportions are equal\")\n"
   ]
  },
  {
   "cell_type": "markdown",
   "id": "3e1a3d75",
   "metadata": {},
   "source": [
    "13.Pooled estimate of the population variance\n",
    "Does the data provide sufficient evidence to conclude that average percentage\n",
    "increase in the price of sugar differs when it is sold at two different prices?\n",
    "Population 1: Price of sugar = Rs. 27.50 n1 = 14\n",
    "x1 = 0.317%\n",
    "s1 = 0.12%\n",
    "Population 2: Price of sugar = Rs. 20.00 n2 = 9\n",
    "x2 = 0.21%\n",
    "s2 = 0.11"
   ]
  },
  {
   "cell_type": "code",
   "execution_count": 22,
   "id": "8df9efa1",
   "metadata": {},
   "outputs": [
    {
     "name": "stdout",
     "output_type": "stream",
     "text": [
      "2.0738730679040147\n",
      "if t caluculated value is greater than t-table value then reject H0\n"
     ]
    }
   ],
   "source": [
    "#price of sugar =27.50\n",
    "n1=14\n",
    "x1=0.317/100\n",
    "s1=0.12/100\n",
    "#population 2: price of sugar=20.00\n",
    "n2=9\n",
    "x2=0.21/100\n",
    "s2=0.11/100\n",
    "#H0: u1=u2\n",
    "#H1: u1!=u2 (it is two tail)\n",
    "# value of n is less than 30 then we will go with t-test\n",
    "t=(x1-x2)/math.sqrt(((s1**2)/n1)+((s2**2)/n2))\n",
    "t_table=scipy.stats.t.ppf(q=1-.05/2,df=(n1+n2)-1)\n",
    "print(t_table)\n",
    "if(t<t_table):\n",
    "    print(\"if t caluculated value is less than t-table value then accept H0\")\n",
    "else:\n",
    "    print(\"if t caluculated value is greater than t-table value then reject H0\")\n"
   ]
  },
  {
   "cell_type": "markdown",
   "id": "23dcb7bb",
   "metadata": {},
   "source": [
    "16: Carry out a one-tailed test to determine whether the population proportion of \n",
    "traveler’s check buyers who buy at least $2500 in checks when sweepstakes prizes \n",
    "are offered as at least 10% higher than the proportion of such buyers when no \n",
    "sweepstakes are on.\n",
    "Population 1: With sweepstakes\n",
    "n1 = 300\n",
    "x1 = 120\n",
    "𝑝1 = 0.40\n",
    "Population 2: No sweepstakes n2 = 700\n",
    "x2 = 140\n",
    "𝑝 2= 0.2"
   ]
  },
  {
   "cell_type": "code",
   "execution_count": 31,
   "id": "a10f3489",
   "metadata": {},
   "outputs": [
    {
     "name": "stdout",
     "output_type": "stream",
     "text": [
      "3.1180478223116177\n",
      "here z caluculated value is not less than the z_table value\n",
      "then we simply reject H0\n"
     ]
    }
   ],
   "source": [
    "#Comparisions of two population proportion when the hypothesized difference is not zero\n",
    "#populations 1: with Sweepstakes\n",
    "n1=300\n",
    "x=120\n",
    "𝑝1 = 0.40\n",
    "#population 2: no Sweepstakes\n",
    "n2=700\n",
    "x2=140\n",
    "𝑝2=0.20\n",
    "D=0.10\n",
    "#H0: p1-p2<=0.10\n",
    "#H1: p1-p2>0.10\n",
    "p=((𝑝1*(1-𝑝1))/n1)+((𝑝2*(1-𝑝2))/n2)\n",
    "z=((𝑝1-𝑝2)-D)/math.sqrt(p)\n",
    "print(z)\n",
    "#level of significance is not mentioned here then we will go with 5% significance and it is one tail\n",
    "sig=1.645\n",
    "print(\"here z caluculated value is not less than the z_table value\")\n",
    "print(\"then we simply reject H0\")\n",
    "\n",
    "\n"
   ]
  },
  {
   "cell_type": "markdown",
   "id": "948ee1f4",
   "metadata": {},
   "source": [
    "10: If a random sample of size 25 drawn from a normal population gives a mean of 60 \n",
    "and a standard deviation of 4, find the range of t-scores where we can expect to find \n",
    "the middle 95% of all sample means. Compute the probability that (−𝑡0.05 <𝑡<𝑡0.10)."
   ]
  },
  {
   "cell_type": "code",
   "execution_count": null,
   "id": "40664dda",
   "metadata": {},
   "outputs": [],
   "source": [
    "n=25\n",
    "mean=60\n",
    "sd=4\n",
    "\n",
    "\n",
    "#range of t-score\n",
    "t=(x-mean)/(sd*math.sqrt(n-1))\n",
    "t_table=scipy.stats.t.ppf(q=1-.95,df=25-1)"
   ]
  },
  {
   "cell_type": "markdown",
   "id": "58b073e1",
   "metadata": {},
   "source": [
    "9.Find the t-score below which we can expect 99% of sample means will fall if samples \n",
    "of size 16 are taken from a normally distributed population."
   ]
  },
  {
   "cell_type": "code",
   "execution_count": 44,
   "id": "85e7e5ea",
   "metadata": {},
   "outputs": [
    {
     "data": {
      "text/plain": [
       "-2.602480294995493"
      ]
     },
     "execution_count": 44,
     "metadata": {},
     "output_type": "execute_result"
    }
   ],
   "source": [
    "#formula for finding t-score and code\n",
    "t_table=scipy.stats.t.ppf(q=1-.99,df=16-1)\n",
    "t_table"
   ]
  },
  {
   "cell_type": "markdown",
   "id": "be11c02e",
   "metadata": {},
   "source": [
    "17: A die is thrown 132 times with the following results: Number turned up: 1, 2, 3, 4, 5, 6\n",
    "Frequency: 16, 20, 25, 14, 29, 28\n",
    "Is the die unbiased? Consider the degrees of freedom as 𝑝 − 1"
   ]
  },
  {
   "cell_type": "code",
   "execution_count": 60,
   "id": "351be5d9",
   "metadata": {},
   "outputs": [
    {
     "name": "stdout",
     "output_type": "stream",
     "text": [
      "9.0\n",
      "die is unbiased\n"
     ]
    }
   ],
   "source": [
    "#H0 u=u1 the die is unbiased\n",
    "#H1 u!=u1 the die is not unbiased\n",
    "# A die is thrown 132 times\n",
    "#chi-square (o-e)**2/e\n",
    "import numpy as np\n",
    "x=np.array([1, 2, 3, 4, 5, 6])\n",
    "fx=np.array([16, 20, 25, 14, 29, 28])\n",
    "n=6\n",
    "#test statistcs\n",
    "#on the hypothesis that the die is unbiased we should expect the frequency of each number to be \n",
    "x=np.array([16, 20, 25, 14, 29, 28])\n",
    "mean=np.mean(x)\n",
    "xcal=0\n",
    "for i in range(len(x)):\n",
    "    xcal1=x[i]-mean\n",
    "    xcal+=(xcal1**2)/mean\n",
    "print(xcal)\n",
    "df=6-1\n",
    "xtab=11.076\n",
    "if(xcal<=xtab):\n",
    "    print(\"die is unbiased\")\n",
    "else:\n",
    "    print(\"die is biased\")\n",
    "     \n",
    "    \n",
    "\n"
   ]
  },
  {
   "cell_type": "markdown",
   "id": "6521e6e1",
   "metadata": {},
   "source": [
    "19: A sample of 100 voters are asked which of four candidates they would vote for in an \n",
    "election. The number supporting each candidate is given below:\n",
    "Do the data suggest that all candidates are equally popular? [Chi-Square = 14.96, \n",
    "with 3 df, 𝑝 0.05 ."
   ]
  },
  {
   "cell_type": "code",
   "execution_count": 63,
   "id": "07d81492",
   "metadata": {},
   "outputs": [
    {
     "name": "stdout",
     "output_type": "stream",
     "text": [
      "they would never vote for in an election\n"
     ]
    }
   ],
   "source": [
    "x=np.array([41,19,24,16])\n",
    "mean=np.mean(x)\n",
    "xcal=0\n",
    "for i in range(len(x)):\n",
    "    xcal1=x[i]-mean\n",
    "    xcal+=(xcal1**2)/mean\n",
    "xcal\n",
    "df=3\n",
    "xtab=7.8\n",
    "\n",
    "if(xcal<=xtab):\n",
    "    print(\"they would vote for in an election\")\n",
    "else:\n",
    "    print(\"they would never vote for in an election\")\n",
    "     "
   ]
  },
  {
   "cell_type": "markdown",
   "id": "e1ea6e91",
   "metadata": {},
   "source": [
    "18: In a certain town, there are about one million eligible voters. A simple random \n",
    "sample of 10,000 eligible voters was chosen to study the relationship between \n",
    "gender and participation in the last election. The results are summarized in the \n",
    "following 2X2 (read two by two) contingency table:\n",
    "We would want to check whether being a man or a woman (columns) is independent of \n",
    "having voted in the last election (rows). In other words, is “gender and voting independent”?\n"
   ]
  },
  {
   "cell_type": "code",
   "execution_count": 64,
   "id": "f0da93a2",
   "metadata": {},
   "outputs": [
    {
     "name": "stdout",
     "output_type": "stream",
     "text": [
      "Chi Square value is 6.660455899328067\n",
      "Critical region with alpha=0.05 is 3.84\n",
      "We reject null hypothesis.It is not gender and voting independent\n"
     ]
    }
   ],
   "source": [
    "\n",
    "observed_voted_men=2792\n",
    "observed_voted_women=3591\n",
    "observed_not_voted_men=1486\n",
    "observed_not_voted_women=2131\n",
    "total_voted=2792+3591\n",
    "total_not_voted=1486+2131\n",
    "total_men=2792+1486\n",
    "total_women=3591+2131\n",
    "expected_voted_men=(total_voted*total_men)/10000\n",
    "expected_voted_women=(total_voted*total_women)/10000\n",
    "expected_not_voted_men=(total_not_voted*total_men)/10000\n",
    "expected_not_voted_women=(total_not_voted*total_women)/10000\n",
    "chisquare1=(((observed_voted_women-expected_voted_women)**2)/expected_voted_women)\n",
    "chisquare2=(((observed_voted_men-expected_voted_men)**2)/expected_voted_men)\n",
    "chisquare3=(((observed_not_voted_men-expected_not_voted_men)**2)/expected_not_voted_men)\n",
    "chisquare4=(((observed_not_voted_women-expected_not_voted_women)**2)/expected_not_voted_women)\n",
    "chisquare=chisquare1+chisquare2+chisquare3+chisquare4\n",
    "print(f\"Chi Square value is {chisquare}\")\n",
    "print(f\"Critical region with alpha=0.05 is 3.84\")\n",
    "print(\"We reject null hypothesis.It is not gender and voting independent\")"
   ]
  },
  {
   "cell_type": "markdown",
   "id": "379b7fc8",
   "metadata": {},
   "source": [
    "\n",
    "21: A study of conformity using the Asch paradigm involved two conditions: one where one confederate supported the true judgement and another where no confederate gave the correct response. image.png Is there a significant difference between the \"support\" and \"no support\" conditions in the frequency with which individuals are likely to conform? [Chi-Square = 19.87, with 1 df: 𝑝 < 0.05]."
   ]
  },
  {
   "cell_type": "code",
   "execution_count": 68,
   "id": "e77a64f0",
   "metadata": {},
   "outputs": [
    {
     "name": "stdout",
     "output_type": "stream",
     "text": [
      "Chi Square value is 18.10344827586207\n",
      "Critical region with 1df and alpha=0.001 is 10.83\n",
      "We reject null hypoythesis.So,there is significant difference between the 'support' and 'no support' conditions in the frequency with which individuals are likely to conform\n"
     ]
    }
   ],
   "source": [
    "import scipy.stats as stats\n",
    "from scipy.stats import chi2_contingency\n",
    "obs=np.array([[18,40],[32,10]])\n",
    "result=chi2_contingency(obs)\n",
    "print(f\"Chi Square value is {result[0]}\")\n",
    "print(f\"Critical region with 1df and alpha=0.001 is 10.83\")\n",
    "print(\"We reject null hypoythesis.So,there is significant difference between the 'support' and 'no support' conditions in the frequency with which individuals are likely to conform\")"
   ]
  },
  {
   "cell_type": "markdown",
   "id": "f2d0c4e7",
   "metadata": {},
   "source": [
    "20: Children of three ages are asked to indicate their preference for three photographs of adults. Do the data suggest that there is a significant relationship between age and photograph preference? What is wrong with this study? [Chi-Square = 29.6, with 4 df: 𝑝 < 0.05]. "
   ]
  },
  {
   "cell_type": "code",
   "execution_count": 69,
   "id": "cf739a2d",
   "metadata": {},
   "outputs": [
    {
     "name": "stdout",
     "output_type": "stream",
     "text": [
      "Chi Square value is 29.603174603174608\n",
      "Critical region with 4df and alpha=0.001 is 18.47\n",
      "We reject null hypothesis.There is significant relationship between age and photograph preference\n"
     ]
    }
   ],
   "source": [
    "obs=([[18,22,20],[2,28,40],[20,10,40]])\n",
    "result=chi2_contingency(obs)\n",
    "print(f\"Chi Square value is {result[0]}\")\n",
    "print(f\"Critical region with 4df and alpha=0.001 is 18.47\")\n",
    "print(\"We reject null hypothesis.There is significant relationship between age and photograph preference\")"
   ]
  },
  {
   "cell_type": "markdown",
   "id": "f9736e39",
   "metadata": {},
   "source": [
    "We want to test whether short people differ with respect to their leadership qualities (Genghis Khan, Adolf Hitler and Napoleon were all stature-deprived, and how many midget MP's are there?) The following table shows the frequencies with which 43 short people and 52 tall people were categorized as \"leaders\", \"followers\" or as \"unclassifiable\". Is there a relationship between height and leadership qualities? [Chi-Square = 10.71, with 2 df: 𝑝 < 0.01]."
   ]
  },
  {
   "cell_type": "code",
   "execution_count": 70,
   "id": "55c3dcc3",
   "metadata": {},
   "outputs": [
    {
     "name": "stdout",
     "output_type": "stream",
     "text": [
      "Chi Square value is 10.712198008709638\n",
      "Critical region with 2df and alpha=0.001 is 13.82\n",
      "We accept null hypothesis.there is no relationship between height and leadership qualities\n"
     ]
    }
   ],
   "source": [
    "obs=([[12,32],[22,14],[9,6]])\n",
    "result=chi2_contingency(obs)\n",
    "print(f\"Chi Square value is {result[0]}\")\n",
    "print(f\"Critical region with 2df and alpha=0.001 is 13.82\")\n",
    "print(\"We accept null hypothesis.there is no relationship between height and leadership qualities\")"
   ]
  },
  {
   "cell_type": "markdown",
   "id": "c78f5347",
   "metadata": {},
   "source": [
    "23: Each respondent in the Current Population Survey of March 1993 was classified as employed, unemployed, or outside the labor force. The results for men in California age 35- 44 can be cross-tabulated by marital status, as follows: image.png Men of different marital status seem to have different distributions of labor force status. Or is this just chance variation? (you may assume the table results from a simple random sample.)"
   ]
  },
  {
   "cell_type": "code",
   "execution_count": 71,
   "id": "e2f8532e",
   "metadata": {},
   "outputs": [
    {
     "name": "stdout",
     "output_type": "stream",
     "text": [
      "Chi Square value is 31.61310319407798\n",
      "Critical region with 4df and alpha=0.001 is 18.47\n",
      "We reject null hypothesis at alpha=0.001 .there is relationship between martial status and employment status\n"
     ]
    }
   ],
   "source": [
    "obs = np.array([[679,103,114], [63,10,20],[42,18,25]])\n",
    "result=chi2_contingency(obs)\n",
    "print(f\"Chi Square value is {result[0]}\")\n",
    "print(f\"Critical region with 4df and alpha=0.001 is 18.47\")\n",
    "print(\"We reject null hypothesis at alpha=0.001 .there is relationship between martial status and employment status\")"
   ]
  },
  {
   "cell_type": "markdown",
   "id": "72213187",
   "metadata": {},
   "source": [
    "In each of the following situations, state whether it is a correctly stated hypothesis testing problem and why?\n",
    "1. 𝐻0: 𝜇 = 25, 𝐻1: 𝜇 ≠ 25\n",
    "2. 𝐻0: 𝜎 > 10, 𝐻1: 𝜎 = 10\n",
    "3. 𝐻0: 𝑥 = 50, 𝐻1: 𝑥 ≠ 50\n",
    "4. 𝐻0: 𝑝 = 0.1, 𝐻1: 𝑝 = 0.5\n",
    "5. 𝐻0: 𝑠 = 30, 𝐻1: 𝑠 > 30"
   ]
  },
  {
   "cell_type": "markdown",
   "id": "8e5700f2",
   "metadata": {},
   "source": [
    "1: Yes, because values in both are statement about population or distribution, have equal values and has inequality in ull hypothesis.\n",
    "2: No, because null hypothesis has an eqaulity claim and alternate hypothesis has inequality.\n",
    "3: No, because hypothesis is stated in terms of statistics and not sample data 4. No, because values in both hypothesis is different and has equal sign.\n",
    "4: No, because hypothesis are always statements about population or distribution and not about sample"
   ]
  }
 ],
 "metadata": {
  "kernelspec": {
   "display_name": "Python 3 (ipykernel)",
   "language": "python",
   "name": "python3"
  },
  "language_info": {
   "codemirror_mode": {
    "name": "ipython",
    "version": 3
   },
   "file_extension": ".py",
   "mimetype": "text/x-python",
   "name": "python",
   "nbconvert_exporter": "python",
   "pygments_lexer": "ipython3",
   "version": "3.9.13"
  }
 },
 "nbformat": 4,
 "nbformat_minor": 5
}
